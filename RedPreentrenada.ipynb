{
  "nbformat": 4,
  "nbformat_minor": 0,
  "metadata": {
    "colab": {
      "provenance": [],
      "gpuType": "T4"
    },
    "kernelspec": {
      "name": "python3",
      "display_name": "Python 3"
    },
    "language_info": {
      "name": "python"
    },
    "accelerator": "GPU"
  },
  "cells": [
    {
      "cell_type": "code",
      "source": [
        "from google.colab import drive\n",
        "drive.mount('/content/drive')"
      ],
      "metadata": {
        "colab": {
          "base_uri": "https://localhost:8080/"
        },
        "id": "-lbtTk6F2L1W",
        "outputId": "0516bafa-4fcc-4942-c925-aa091138a3a6"
      },
      "execution_count": null,
      "outputs": [
        {
          "output_type": "stream",
          "name": "stdout",
          "text": [
            "Drive already mounted at /content/drive; to attempt to forcibly remount, call drive.mount(\"/content/drive\", force_remount=True).\n"
          ]
        }
      ]
    },
    {
      "cell_type": "code",
      "execution_count": null,
      "metadata": {
        "colab": {
          "base_uri": "https://localhost:8080/"
        },
        "id": "Ir6xpF0v17lq",
        "outputId": "b18932da-d5c8-40b2-f906-d4d05510a194"
      },
      "outputs": [
        {
          "output_type": "stream",
          "name": "stdout",
          "text": [
            "Archive:  /content/drive/MyDrive/Datos/Practica1/archive-intel.zip\n",
            "replace archive-intel/seg_test/seg_test/buildings/20057.jpg? [y]es, [n]o, [A]ll, [N]one, [r]ename: "
          ]
        }
      ],
      "source": [
        "#Descomprimimos el archivo en el que tenemos todos los datos necesarios para la práctica\n",
        "!unzip /content/drive/MyDrive/Datos/Practica1/archive-intel.zip"
      ]
    },
    {
      "cell_type": "code",
      "source": [
        "# Preparación de las imagenes en crudo en su representación en tensor\n",
        "from keras.preprocessing.image import ImageDataGenerator\n",
        "#Con este generador, podremos recorrer los datos en lotes, y en cada iteración, el generador aplicará\n",
        "#las técnicas de aumento de datos especificadas para generar imágenes aumentadas"
      ],
      "metadata": {
        "id": "3IOdNMtj2Qq1"
      },
      "execution_count": null,
      "outputs": []
    },
    {
      "cell_type": "code",
      "source": [
        "#Para normalizar los valores de los píxeles en las imágenes\n",
        "train_datagen = ImageDataGenerator(rescale=1./255)\n",
        "test_datagen = ImageDataGenerator(rescale=1./255)"
      ],
      "metadata": {
        "id": "aVoRuu9c2aYW"
      },
      "execution_count": null,
      "outputs": []
    },
    {
      "cell_type": "code",
      "source": [
        "train_generator = train_datagen.flow_from_directory(\n",
        "    '/content/archive-intel/seg_train/seg_train', #Ruta del directorio donde se encuentran las imágenes de entrenamiento\n",
        "    target_size=(200, 200), #Las imágenes se redimensionarán a una altura y ancho de 200 píxeles\n",
        "    batch_size=32, #Número de imágenes en cada lote que se utilizará para el entrenamiento\n",
        "    class_mode='categorical') #Tarea de clasificación categórica (multiclase)"
      ],
      "metadata": {
        "colab": {
          "base_uri": "https://localhost:8080/"
        },
        "id": "XTUT6dxl21rs",
        "outputId": "d4604304-ed1f-4f24-fb68-43c88a3ec161"
      },
      "execution_count": null,
      "outputs": [
        {
          "output_type": "stream",
          "name": "stdout",
          "text": [
            "Found 14034 images belonging to 6 classes.\n"
          ]
        }
      ]
    },
    {
      "cell_type": "code",
      "source": [
        "validation_generator = test_datagen.flow_from_directory(\n",
        "    '/content/archive-intel/seg_test/seg_test', #Ruta del directorio donde se encuentran las imágenes de prueba o validación\n",
        "    target_size=(200, 200), #Las imágenes se redimensionarán a una altura y ancho de 200 píxeles\n",
        "    batch_size=32, #Número de imágenes en cada lote que se utilizará para la validación\n",
        "    class_mode='categorical') #Tarea de clasificación categórica (multiclase)"
      ],
      "metadata": {
        "colab": {
          "base_uri": "https://localhost:8080/"
        },
        "id": "Rik5sPpu239F",
        "outputId": "9e117d32-8be2-45ec-a888-5b932b3389f8"
      },
      "execution_count": null,
      "outputs": [
        {
          "output_type": "stream",
          "name": "stdout",
          "text": [
            "Found 3000 images belonging to 6 classes.\n"
          ]
        }
      ]
    },
    {
      "cell_type": "code",
      "source": [
        "# Veamos el contenido de uno de los generators e imprimimos la forma (shape) del lote de datos y el lote de etiquetas\n",
        "for data_batch, labels_batch in train_generator:\n",
        "    print('data batch shape:', data_batch.shape)\n",
        "    print('labels batch shape:', labels_batch.shape)\n",
        "    break"
      ],
      "metadata": {
        "colab": {
          "base_uri": "https://localhost:8080/"
        },
        "id": "DRUYX13g279b",
        "outputId": "5f206003-c8fa-4fad-b84d-ae5291373ee5"
      },
      "execution_count": null,
      "outputs": [
        {
          "output_type": "stream",
          "name": "stdout",
          "text": [
            "data batch shape: (32, 200, 200, 3)\n",
            "labels batch shape: (32, 6)\n"
          ]
        }
      ]
    },
    {
      "cell_type": "code",
      "source": [
        "#Arquitectura VGG16 como base convolucional, con 16 capas\n",
        "from keras.applications import VGG16\n",
        "#Inicializamos el modelo con los pesos preentrenados en el conjunto de datos de ImageNet\n",
        "#Omitimos la capa densa superior (capa de clasificación) del modelo original\n",
        "#Especificamos el tamaño de la entrada de las imágenes, 200x200 píxeles y 3 canales (RGB)\n",
        "conv_base = VGG16(weights='imagenet', include_top=False, input_shape=(200, 200, 3))"
      ],
      "metadata": {
        "id": "LokFGjZM2-cV"
      },
      "execution_count": null,
      "outputs": []
    },
    {
      "cell_type": "code",
      "source": [
        "#Resumen de la arquitectura de la base convolucional VGG16\n",
        "conv_base.summary()"
      ],
      "metadata": {
        "colab": {
          "base_uri": "https://localhost:8080/"
        },
        "id": "Wqnqy9xA3IzW",
        "outputId": "a238bb36-d55a-4df8-afe1-92ad37f8822c"
      },
      "execution_count": null,
      "outputs": [
        {
          "output_type": "stream",
          "name": "stdout",
          "text": [
            "Model: \"vgg16\"\n",
            "_________________________________________________________________\n",
            " Layer (type)                Output Shape              Param #   \n",
            "=================================================================\n",
            " input_2 (InputLayer)        [(None, 200, 200, 3)]     0         \n",
            "                                                                 \n",
            " block1_conv1 (Conv2D)       (None, 200, 200, 64)      1792      \n",
            "                                                                 \n",
            " block1_conv2 (Conv2D)       (None, 200, 200, 64)      36928     \n",
            "                                                                 \n",
            " block1_pool (MaxPooling2D)  (None, 100, 100, 64)      0         \n",
            "                                                                 \n",
            " block2_conv1 (Conv2D)       (None, 100, 100, 128)     73856     \n",
            "                                                                 \n",
            " block2_conv2 (Conv2D)       (None, 100, 100, 128)     147584    \n",
            "                                                                 \n",
            " block2_pool (MaxPooling2D)  (None, 50, 50, 128)       0         \n",
            "                                                                 \n",
            " block3_conv1 (Conv2D)       (None, 50, 50, 256)       295168    \n",
            "                                                                 \n",
            " block3_conv2 (Conv2D)       (None, 50, 50, 256)       590080    \n",
            "                                                                 \n",
            " block3_conv3 (Conv2D)       (None, 50, 50, 256)       590080    \n",
            "                                                                 \n",
            " block3_pool (MaxPooling2D)  (None, 25, 25, 256)       0         \n",
            "                                                                 \n",
            " block4_conv1 (Conv2D)       (None, 25, 25, 512)       1180160   \n",
            "                                                                 \n",
            " block4_conv2 (Conv2D)       (None, 25, 25, 512)       2359808   \n",
            "                                                                 \n",
            " block4_conv3 (Conv2D)       (None, 25, 25, 512)       2359808   \n",
            "                                                                 \n",
            " block4_pool (MaxPooling2D)  (None, 12, 12, 512)       0         \n",
            "                                                                 \n",
            " block5_conv1 (Conv2D)       (None, 12, 12, 512)       2359808   \n",
            "                                                                 \n",
            " block5_conv2 (Conv2D)       (None, 12, 12, 512)       2359808   \n",
            "                                                                 \n",
            " block5_conv3 (Conv2D)       (None, 12, 12, 512)       2359808   \n",
            "                                                                 \n",
            " block5_pool (MaxPooling2D)  (None, 6, 6, 512)         0         \n",
            "                                                                 \n",
            "=================================================================\n",
            "Total params: 14714688 (56.13 MB)\n",
            "Trainable params: 14714688 (56.13 MB)\n",
            "Non-trainable params: 0 (0.00 Byte)\n",
            "_________________________________________________________________\n"
          ]
        }
      ]
    },
    {
      "cell_type": "code",
      "source": [
        "#Congelamos las capas de la base convolucional y así evitamos que sus pesos se actualicen\n",
        "#durante el entrenamiento del modelo, es decir, evitamos overfitting\n",
        "conv_base.trainable = False"
      ],
      "metadata": {
        "id": "-12Dp0MR3M94"
      },
      "execution_count": null,
      "outputs": []
    },
    {
      "cell_type": "code",
      "source": [
        "from keras import models\n",
        "from keras import layers\n",
        "\n",
        "model = models.Sequential()\n",
        "model.add(conv_base) #Agregamos la base convolucional VGG16 al modelo\n",
        "model.add(layers.Flatten()) #Aplanamos para convertir la salida de la base convolucional en un vector unidimensional, preparándola para las capas densas\n",
        "model.add(layers.Dense(64, activation='relu')) #Agregamos una capa densa con 64 neuronas y función de activación ReLU\n",
        "model.add(layers.Dropout(0.3)) #Añadimos Dropout() para evitar overfitting\n",
        "model.add(layers.Dense(128, activation='relu')) #Otra capa densa con 256 neuronas y activación ReLU\n",
        "model.add(layers.Dense(6, activation='softmax')) #Capa de salida con 6 neuronas (tenemos 6 clases), y función de activación softmax porque es clasificación multiclase"
      ],
      "metadata": {
        "id": "21UcydWE3QOF"
      },
      "execution_count": null,
      "outputs": []
    },
    {
      "cell_type": "code",
      "source": [
        "#Resumen del modelo\n",
        "model.summary()"
      ],
      "metadata": {
        "colab": {
          "base_uri": "https://localhost:8080/"
        },
        "id": "U8LevhnM3V4b",
        "outputId": "2b05a4db-b986-402c-e63b-859673a718e2"
      },
      "execution_count": null,
      "outputs": [
        {
          "output_type": "stream",
          "name": "stdout",
          "text": [
            "Model: \"sequential_1\"\n",
            "_________________________________________________________________\n",
            " Layer (type)                Output Shape              Param #   \n",
            "=================================================================\n",
            " vgg16 (Functional)          (None, 6, 6, 512)         14714688  \n",
            "                                                                 \n",
            " flatten_1 (Flatten)         (None, 18432)             0         \n",
            "                                                                 \n",
            " dense_3 (Dense)             (None, 64)                1179712   \n",
            "                                                                 \n",
            " dropout_1 (Dropout)         (None, 64)                0         \n",
            "                                                                 \n",
            " dense_4 (Dense)             (None, 128)               8320      \n",
            "                                                                 \n",
            " dense_5 (Dense)             (None, 6)                 774       \n",
            "                                                                 \n",
            "=================================================================\n",
            "Total params: 15903494 (60.67 MB)\n",
            "Trainable params: 1188806 (4.53 MB)\n",
            "Non-trainable params: 14714688 (56.13 MB)\n",
            "_________________________________________________________________\n"
          ]
        }
      ]
    },
    {
      "cell_type": "code",
      "source": [
        "# Configuración del modelo para entrenamiento\n",
        "from tensorflow.keras import optimizers\n",
        "\n",
        "#La entropía cruzada categórica ('categorical_crossentropy') es comúnmente utilizada en este tipo de problemas (multiclase)\n",
        "#Utilizamos como optimizador 'RMSprop' con tasa de aprendizaje de 0.0001\n",
        "#Monitoreamos la precisión durante el entrenamiento\n",
        "model.compile(loss='categorical_crossentropy', optimizer=optimizers.RMSprop(learning_rate=1e-4), metrics=['acc'])"
      ],
      "metadata": {
        "id": "_aoAQB5L3YTf"
      },
      "execution_count": null,
      "outputs": []
    },
    {
      "cell_type": "code",
      "source": [
        "# Vamos a entrenar la red neuronal con el generator que configuramos más arriba\n",
        "history = model.fit_generator(train_generator, steps_per_epoch=438, epochs=10, validation_data=validation_generator, validation_steps=93)"
      ],
      "metadata": {
        "colab": {
          "base_uri": "https://localhost:8080/"
        },
        "id": "4Gqf-yXZ3ePe",
        "outputId": "1f98cc7c-fdd7-41e4-8878-3d545ae8b9a6"
      },
      "execution_count": null,
      "outputs": [
        {
          "output_type": "stream",
          "name": "stdout",
          "text": [
            "Epoch 1/10\n"
          ]
        },
        {
          "output_type": "stream",
          "name": "stderr",
          "text": [
            "<ipython-input-28-d39f8d8418d6>:2: UserWarning: `Model.fit_generator` is deprecated and will be removed in a future version. Please use `Model.fit`, which supports generators.\n",
            "  history = model.fit_generator(train_generator, steps_per_epoch=438, epochs=10, validation_data=validation_generator, validation_steps=93)\n"
          ]
        },
        {
          "output_type": "stream",
          "name": "stdout",
          "text": [
            "438/438 [==============================] - 63s 139ms/step - loss: 0.6678 - acc: 0.7642 - val_loss: 0.4176 - val_acc: 0.8444\n",
            "Epoch 2/10\n",
            "438/438 [==============================] - 62s 140ms/step - loss: 0.4030 - acc: 0.8595 - val_loss: 0.3351 - val_acc: 0.8794\n",
            "Epoch 3/10\n",
            "438/438 [==============================] - 64s 146ms/step - loss: 0.3423 - acc: 0.8797 - val_loss: 0.3710 - val_acc: 0.8656\n",
            "Epoch 4/10\n",
            "438/438 [==============================] - 74s 168ms/step - loss: 0.3035 - acc: 0.8922 - val_loss: 0.3299 - val_acc: 0.8807\n",
            "Epoch 5/10\n",
            "438/438 [==============================] - 64s 146ms/step - loss: 0.2740 - acc: 0.9075 - val_loss: 0.3318 - val_acc: 0.8841\n",
            "Epoch 6/10\n",
            "438/438 [==============================] - 73s 167ms/step - loss: 0.2474 - acc: 0.9127 - val_loss: 0.3278 - val_acc: 0.8841\n",
            "Epoch 7/10\n",
            "438/438 [==============================] - 74s 168ms/step - loss: 0.2278 - acc: 0.9220 - val_loss: 0.3469 - val_acc: 0.8854\n",
            "Epoch 8/10\n",
            "438/438 [==============================] - 64s 146ms/step - loss: 0.2057 - acc: 0.9275 - val_loss: 0.3281 - val_acc: 0.8864\n",
            "Epoch 9/10\n",
            "438/438 [==============================] - 64s 145ms/step - loss: 0.1937 - acc: 0.9345 - val_loss: 0.3256 - val_acc: 0.8918\n",
            "Epoch 10/10\n",
            "438/438 [==============================] - 64s 146ms/step - loss: 0.1732 - acc: 0.9398 - val_loss: 0.3417 - val_acc: 0.8905\n"
          ]
        }
      ]
    },
    {
      "cell_type": "markdown",
      "source": [
        "# Vamos a ver las graficas de entrenamiento"
      ],
      "metadata": {
        "id": "SsT1xrb738T-"
      }
    },
    {
      "cell_type": "code",
      "source": [
        "history_dict = history.history"
      ],
      "metadata": {
        "id": "6C1YY4e83ic4"
      },
      "execution_count": null,
      "outputs": []
    },
    {
      "cell_type": "code",
      "source": [
        "#Para obtener las claves disponibles en este diccionario\n",
        "history_dict.keys()"
      ],
      "metadata": {
        "colab": {
          "base_uri": "https://localhost:8080/"
        },
        "id": "6_rX7lRu3_r9",
        "outputId": "084e4ef1-8c48-4ee0-af34-830c86929464"
      },
      "execution_count": null,
      "outputs": [
        {
          "output_type": "execute_result",
          "data": {
            "text/plain": [
              "dict_keys(['loss', 'acc', 'val_loss', 'val_acc'])"
            ]
          },
          "metadata": {},
          "execution_count": 30
        }
      ]
    },
    {
      "cell_type": "code",
      "source": [
        "#Gráfica de la precisión del modelo\n",
        "import matplotlib.pyplot as plt\n",
        "\n",
        "plt.plot(history.history['acc'])\n",
        "plt.plot(history.history['val_acc'])\n",
        "plt.title('model accuracy')\n",
        "plt.ylabel('accuracy') #Eje y (accuracy): Representa la precisión del modelo\n",
        "plt.xlabel('epoch') #Eje x (epoch): Representa las épocas del entrenamiento\n",
        "plt.legend(['train', 'val'], loc='upper left')\n",
        "plt.show()"
      ],
      "metadata": {
        "colab": {
          "base_uri": "https://localhost:8080/",
          "height": 472
        },
        "id": "rHjLIoIv3_oO",
        "outputId": "e91a99a5-9ff7-4211-8258-42563d5aa39a"
      },
      "execution_count": null,
      "outputs": [
        {
          "output_type": "display_data",
          "data": {
            "text/plain": [
              "<Figure size 640x480 with 1 Axes>"
            ],
            "image/png": "[encoded data removed]"
          },
          "metadata": {}
        }
      ]
    },
    {
      "cell_type": "code",
      "source": [
        "#Gráfica de la pérdida del modelo\n",
        "plt.plot(history.history['loss'])\n",
        "plt.plot(history.history['val_loss'])\n",
        "plt.title('model loss')\n",
        "plt.ylabel('loss') #Eje y (loss): Representa la pérdida del modelo\n",
        "plt.xlabel('epoch') #Eje x (epoch): Representa las épocas del entrenamiento\n",
        "plt.legend(['train', 'val'], loc='upper left')\n",
        "plt.show()"
      ],
      "metadata": {
        "colab": {
          "base_uri": "https://localhost:8080/",
          "height": 472
        },
        "id": "4Oj6ReA33_e9",
        "outputId": "a50b1099-916e-4b17-bf29-5a90106d2658"
      },
      "execution_count": null,
      "outputs": [
        {
          "output_type": "display_data",
          "data": {
            "text/plain": [
              "<Figure size 640x480 with 1 Axes>"
            ],
            "image/png": "[encoded data removed]"
          },
          "metadata": {}
        }
      ]
    },
    {
      "cell_type": "code",
      "source": [
        "#Para evaluar el rendimiento del modelo en un conjunto de datos que no se ha visto durante el entrenamiento\n",
        "test_generator = test_datagen.flow_from_directory(\n",
        "    '/content/archive-intel/seg_test/seg_test', #Ruta del directorio donde se encuentran las imágenes de prueba\n",
        "    target_size=(200, 200), #Las imágenes se redimensionarán a una altura y ancho de 200 píxeles\n",
        "    batch_size=32, #Número de imágenes en cada lote que se utilizará para la evaluación\n",
        "    class_mode='categorical') #Tarea de clasificación categórica (multiclase)"
      ],
      "metadata": {
        "colab": {
          "base_uri": "https://localhost:8080/"
        },
        "id": "zsgHAK3r4JQy",
        "outputId": "e1d47762-24f0-4f99-ca8d-4dd3c6a2306b"
      },
      "execution_count": null,
      "outputs": [
        {
          "output_type": "stream",
          "name": "stdout",
          "text": [
            "Found 3000 images belonging to 6 classes.\n"
          ]
        }
      ]
    },
    {
      "cell_type": "code",
      "source": [
        "#Estimar la preción al predecir todo el dataset, es decir, evaluamos el rendimiento final del modelo en datos no vistos\n",
        "scores = model.evaluate(test_generator)\n",
        "print(\"%s: %.2f%%\" % (model.metrics_names[1], scores[1]*100))"
      ],
      "metadata": {
        "colab": {
          "base_uri": "https://localhost:8080/"
        },
        "id": "3C10qTG34NPO",
        "outputId": "d445983c-0454-4150-d939-ff8726b4c04d"
      },
      "execution_count": null,
      "outputs": [
        {
          "output_type": "stream",
          "name": "stdout",
          "text": [
            "94/94 [==============================] - 14s 150ms/step - loss: 0.3407 - acc: 0.8907\n",
            "acc: 89.07%\n"
          ]
        }
      ]
    },
    {
      "cell_type": "code",
      "source": [],
      "metadata": {
        "id": "J5dBMGDNoXqX"
      },
      "execution_count": null,
      "outputs": []
    }
  ]
}